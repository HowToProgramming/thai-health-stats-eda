{
 "cells": [
  {
   "cell_type": "code",
   "execution_count": 2,
   "metadata": {},
   "outputs": [],
   "source": [
    "import pandas as pd\n",
    "import numpy as np\n",
    "import matplotlib.pyplot as plt"
   ]
  },
  {
   "cell_type": "code",
   "execution_count": 3,
   "metadata": {},
   "outputs": [],
   "source": [
    "median_age_dataset_dir = \"medianagedataset/MedianAge.csv\"\n",
    "median_age_dataset = pd.read_csv(median_age_dataset_dir)"
   ]
  },
  {
   "cell_type": "code",
   "execution_count": 4,
   "metadata": {},
   "outputs": [
    {
     "data": {
      "text/html": [
       "<div>\n",
       "<style scoped>\n",
       "    .dataframe tbody tr th:only-of-type {\n",
       "        vertical-align: middle;\n",
       "    }\n",
       "\n",
       "    .dataframe tbody tr th {\n",
       "        vertical-align: top;\n",
       "    }\n",
       "\n",
       "    .dataframe thead th {\n",
       "        text-align: right;\n",
       "    }\n",
       "</style>\n",
       "<table border=\"1\" class=\"dataframe\">\n",
       "  <thead>\n",
       "    <tr style=\"text-align: right;\">\n",
       "      <th></th>\n",
       "      <th>Country</th>\n",
       "      <th>1950</th>\n",
       "      <th>1955</th>\n",
       "      <th>1960</th>\n",
       "      <th>1965</th>\n",
       "      <th>1970</th>\n",
       "      <th>1975</th>\n",
       "      <th>1980</th>\n",
       "      <th>1985</th>\n",
       "      <th>1990</th>\n",
       "      <th>...</th>\n",
       "      <th>2005</th>\n",
       "      <th>2010</th>\n",
       "      <th>2015</th>\n",
       "      <th>2020</th>\n",
       "      <th>2025</th>\n",
       "      <th>2030</th>\n",
       "      <th>2035</th>\n",
       "      <th>2040</th>\n",
       "      <th>2045</th>\n",
       "      <th>2050</th>\n",
       "    </tr>\n",
       "  </thead>\n",
       "  <tbody>\n",
       "    <tr>\n",
       "      <th>0</th>\n",
       "      <td>Afghanistan</td>\n",
       "      <td>18.597</td>\n",
       "      <td>18.462</td>\n",
       "      <td>18.311</td>\n",
       "      <td>18.193</td>\n",
       "      <td>17.994</td>\n",
       "      <td>17.648</td>\n",
       "      <td>17.357</td>\n",
       "      <td>17.091</td>\n",
       "      <td>16.845</td>\n",
       "      <td>...</td>\n",
       "      <td>16.490</td>\n",
       "      <td>16.868</td>\n",
       "      <td>17.326</td>\n",
       "      <td>17.810</td>\n",
       "      <td>18.319</td>\n",
       "      <td>18.936</td>\n",
       "      <td>19.775</td>\n",
       "      <td>20.918</td>\n",
       "      <td>22.196</td>\n",
       "      <td>23.522</td>\n",
       "    </tr>\n",
       "    <tr>\n",
       "      <th>1</th>\n",
       "      <td>Albania</td>\n",
       "      <td>20.640</td>\n",
       "      <td>20.202</td>\n",
       "      <td>19.677</td>\n",
       "      <td>18.955</td>\n",
       "      <td>18.844</td>\n",
       "      <td>19.490</td>\n",
       "      <td>21.349</td>\n",
       "      <td>22.505</td>\n",
       "      <td>23.815</td>\n",
       "      <td>...</td>\n",
       "      <td>28.532</td>\n",
       "      <td>29.968</td>\n",
       "      <td>31.796</td>\n",
       "      <td>33.636</td>\n",
       "      <td>35.737</td>\n",
       "      <td>37.988</td>\n",
       "      <td>40.292</td>\n",
       "      <td>42.258</td>\n",
       "      <td>43.702</td>\n",
       "      <td>44.268</td>\n",
       "    </tr>\n",
       "    <tr>\n",
       "      <th>2</th>\n",
       "      <td>Algeria</td>\n",
       "      <td>19.927</td>\n",
       "      <td>19.307</td>\n",
       "      <td>18.170</td>\n",
       "      <td>16.742</td>\n",
       "      <td>15.808</td>\n",
       "      <td>16.165</td>\n",
       "      <td>16.910</td>\n",
       "      <td>17.318</td>\n",
       "      <td>18.183</td>\n",
       "      <td>...</td>\n",
       "      <td>24.015</td>\n",
       "      <td>26.247</td>\n",
       "      <td>28.311</td>\n",
       "      <td>30.333</td>\n",
       "      <td>32.300</td>\n",
       "      <td>34.187</td>\n",
       "      <td>35.547</td>\n",
       "      <td>36.877</td>\n",
       "      <td>38.145</td>\n",
       "      <td>39.416</td>\n",
       "    </tr>\n",
       "    <tr>\n",
       "      <th>3</th>\n",
       "      <td>Angola</td>\n",
       "      <td>19.401</td>\n",
       "      <td>18.882</td>\n",
       "      <td>18.244</td>\n",
       "      <td>17.481</td>\n",
       "      <td>16.987</td>\n",
       "      <td>16.828</td>\n",
       "      <td>16.652</td>\n",
       "      <td>16.449</td>\n",
       "      <td>16.198</td>\n",
       "      <td>...</td>\n",
       "      <td>16.718</td>\n",
       "      <td>17.385</td>\n",
       "      <td>17.989</td>\n",
       "      <td>18.658</td>\n",
       "      <td>19.510</td>\n",
       "      <td>20.435</td>\n",
       "      <td>21.623</td>\n",
       "      <td>22.891</td>\n",
       "      <td>24.197</td>\n",
       "      <td>25.561</td>\n",
       "    </tr>\n",
       "    <tr>\n",
       "      <th>4</th>\n",
       "      <td>Argentina</td>\n",
       "      <td>25.657</td>\n",
       "      <td>26.471</td>\n",
       "      <td>27.070</td>\n",
       "      <td>27.398</td>\n",
       "      <td>27.593</td>\n",
       "      <td>27.663</td>\n",
       "      <td>27.377</td>\n",
       "      <td>27.463</td>\n",
       "      <td>27.574</td>\n",
       "      <td>...</td>\n",
       "      <td>29.120</td>\n",
       "      <td>30.439</td>\n",
       "      <td>31.615</td>\n",
       "      <td>32.837</td>\n",
       "      <td>34.147</td>\n",
       "      <td>35.551</td>\n",
       "      <td>36.931</td>\n",
       "      <td>38.163</td>\n",
       "      <td>39.271</td>\n",
       "      <td>40.386</td>\n",
       "    </tr>\n",
       "    <tr>\n",
       "      <th>...</th>\n",
       "      <td>...</td>\n",
       "      <td>...</td>\n",
       "      <td>...</td>\n",
       "      <td>...</td>\n",
       "      <td>...</td>\n",
       "      <td>...</td>\n",
       "      <td>...</td>\n",
       "      <td>...</td>\n",
       "      <td>...</td>\n",
       "      <td>...</td>\n",
       "      <td>...</td>\n",
       "      <td>...</td>\n",
       "      <td>...</td>\n",
       "      <td>...</td>\n",
       "      <td>...</td>\n",
       "      <td>...</td>\n",
       "      <td>...</td>\n",
       "      <td>...</td>\n",
       "      <td>...</td>\n",
       "      <td>...</td>\n",
       "      <td>...</td>\n",
       "    </tr>\n",
       "    <tr>\n",
       "      <th>210</th>\n",
       "      <td>Western Europe</td>\n",
       "      <td>34.543</td>\n",
       "      <td>33.597</td>\n",
       "      <td>33.766</td>\n",
       "      <td>33.405</td>\n",
       "      <td>33.203</td>\n",
       "      <td>33.533</td>\n",
       "      <td>34.483</td>\n",
       "      <td>35.402</td>\n",
       "      <td>36.309</td>\n",
       "      <td>...</td>\n",
       "      <td>40.486</td>\n",
       "      <td>42.223</td>\n",
       "      <td>43.821</td>\n",
       "      <td>44.920</td>\n",
       "      <td>45.613</td>\n",
       "      <td>46.208</td>\n",
       "      <td>46.779</td>\n",
       "      <td>47.237</td>\n",
       "      <td>47.469</td>\n",
       "      <td>47.557</td>\n",
       "    </tr>\n",
       "    <tr>\n",
       "      <th>211</th>\n",
       "      <td>Western Sahara</td>\n",
       "      <td>18.665</td>\n",
       "      <td>19.999</td>\n",
       "      <td>20.799</td>\n",
       "      <td>21.072</td>\n",
       "      <td>20.237</td>\n",
       "      <td>16.811</td>\n",
       "      <td>21.313</td>\n",
       "      <td>21.222</td>\n",
       "      <td>20.653</td>\n",
       "      <td>...</td>\n",
       "      <td>24.221</td>\n",
       "      <td>26.466</td>\n",
       "      <td>28.347</td>\n",
       "      <td>30.050</td>\n",
       "      <td>31.775</td>\n",
       "      <td>33.359</td>\n",
       "      <td>34.691</td>\n",
       "      <td>35.667</td>\n",
       "      <td>36.607</td>\n",
       "      <td>37.585</td>\n",
       "    </tr>\n",
       "    <tr>\n",
       "      <th>212</th>\n",
       "      <td>Yemen, Rep.</td>\n",
       "      <td>18.865</td>\n",
       "      <td>17.802</td>\n",
       "      <td>16.912</td>\n",
       "      <td>16.282</td>\n",
       "      <td>15.673</td>\n",
       "      <td>14.873</td>\n",
       "      <td>14.706</td>\n",
       "      <td>14.473</td>\n",
       "      <td>14.338</td>\n",
       "      <td>...</td>\n",
       "      <td>16.802</td>\n",
       "      <td>17.797</td>\n",
       "      <td>18.782</td>\n",
       "      <td>19.776</td>\n",
       "      <td>20.898</td>\n",
       "      <td>22.304</td>\n",
       "      <td>23.845</td>\n",
       "      <td>25.508</td>\n",
       "      <td>27.293</td>\n",
       "      <td>29.108</td>\n",
       "    </tr>\n",
       "    <tr>\n",
       "      <th>213</th>\n",
       "      <td>Zambia</td>\n",
       "      <td>17.474</td>\n",
       "      <td>17.558</td>\n",
       "      <td>17.478</td>\n",
       "      <td>17.279</td>\n",
       "      <td>16.814</td>\n",
       "      <td>16.482</td>\n",
       "      <td>16.281</td>\n",
       "      <td>16.610</td>\n",
       "      <td>16.992</td>\n",
       "      <td>...</td>\n",
       "      <td>16.814</td>\n",
       "      <td>16.754</td>\n",
       "      <td>17.097</td>\n",
       "      <td>17.805</td>\n",
       "      <td>18.682</td>\n",
       "      <td>19.717</td>\n",
       "      <td>20.912</td>\n",
       "      <td>22.148</td>\n",
       "      <td>23.397</td>\n",
       "      <td>24.676</td>\n",
       "    </tr>\n",
       "    <tr>\n",
       "      <th>214</th>\n",
       "      <td>Zimbabwe</td>\n",
       "      <td>18.968</td>\n",
       "      <td>18.160</td>\n",
       "      <td>17.381</td>\n",
       "      <td>16.265</td>\n",
       "      <td>15.883</td>\n",
       "      <td>15.735</td>\n",
       "      <td>15.494</td>\n",
       "      <td>15.981</td>\n",
       "      <td>16.795</td>\n",
       "      <td>...</td>\n",
       "      <td>18.388</td>\n",
       "      <td>19.020</td>\n",
       "      <td>20.703</td>\n",
       "      <td>22.144</td>\n",
       "      <td>23.287</td>\n",
       "      <td>24.444</td>\n",
       "      <td>25.798</td>\n",
       "      <td>27.324</td>\n",
       "      <td>28.924</td>\n",
       "      <td>30.655</td>\n",
       "    </tr>\n",
       "  </tbody>\n",
       "</table>\n",
       "<p>215 rows × 22 columns</p>\n",
       "</div>"
      ],
      "text/plain": [
       "            Country    1950    1955    1960    1965    1970    1975    1980  \\\n",
       "0       Afghanistan  18.597  18.462  18.311  18.193  17.994  17.648  17.357   \n",
       "1           Albania  20.640  20.202  19.677  18.955  18.844  19.490  21.349   \n",
       "2           Algeria  19.927  19.307  18.170  16.742  15.808  16.165  16.910   \n",
       "3            Angola  19.401  18.882  18.244  17.481  16.987  16.828  16.652   \n",
       "4         Argentina  25.657  26.471  27.070  27.398  27.593  27.663  27.377   \n",
       "..              ...     ...     ...     ...     ...     ...     ...     ...   \n",
       "210  Western Europe  34.543  33.597  33.766  33.405  33.203  33.533  34.483   \n",
       "211  Western Sahara  18.665  19.999  20.799  21.072  20.237  16.811  21.313   \n",
       "212     Yemen, Rep.  18.865  17.802  16.912  16.282  15.673  14.873  14.706   \n",
       "213          Zambia  17.474  17.558  17.478  17.279  16.814  16.482  16.281   \n",
       "214        Zimbabwe  18.968  18.160  17.381  16.265  15.883  15.735  15.494   \n",
       "\n",
       "       1985    1990  ...    2005    2010    2015    2020    2025    2030  \\\n",
       "0    17.091  16.845  ...  16.490  16.868  17.326  17.810  18.319  18.936   \n",
       "1    22.505  23.815  ...  28.532  29.968  31.796  33.636  35.737  37.988   \n",
       "2    17.318  18.183  ...  24.015  26.247  28.311  30.333  32.300  34.187   \n",
       "3    16.449  16.198  ...  16.718  17.385  17.989  18.658  19.510  20.435   \n",
       "4    27.463  27.574  ...  29.120  30.439  31.615  32.837  34.147  35.551   \n",
       "..      ...     ...  ...     ...     ...     ...     ...     ...     ...   \n",
       "210  35.402  36.309  ...  40.486  42.223  43.821  44.920  45.613  46.208   \n",
       "211  21.222  20.653  ...  24.221  26.466  28.347  30.050  31.775  33.359   \n",
       "212  14.473  14.338  ...  16.802  17.797  18.782  19.776  20.898  22.304   \n",
       "213  16.610  16.992  ...  16.814  16.754  17.097  17.805  18.682  19.717   \n",
       "214  15.981  16.795  ...  18.388  19.020  20.703  22.144  23.287  24.444   \n",
       "\n",
       "       2035    2040    2045    2050  \n",
       "0    19.775  20.918  22.196  23.522  \n",
       "1    40.292  42.258  43.702  44.268  \n",
       "2    35.547  36.877  38.145  39.416  \n",
       "3    21.623  22.891  24.197  25.561  \n",
       "4    36.931  38.163  39.271  40.386  \n",
       "..      ...     ...     ...     ...  \n",
       "210  46.779  47.237  47.469  47.557  \n",
       "211  34.691  35.667  36.607  37.585  \n",
       "212  23.845  25.508  27.293  29.108  \n",
       "213  20.912  22.148  23.397  24.676  \n",
       "214  25.798  27.324  28.924  30.655  \n",
       "\n",
       "[215 rows x 22 columns]"
      ]
     },
     "execution_count": 4,
     "metadata": {},
     "output_type": "execute_result"
    }
   ],
   "source": [
    "median_age_dataset"
   ]
  },
  {
   "cell_type": "code",
   "execution_count": 5,
   "metadata": {},
   "outputs": [],
   "source": [
    "years = median_age_dataset.columns\n",
    "\n",
    "years = np.array(years)[1:].astype(int)\n",
    "available_years = years[years < 2022].astype(str)"
   ]
  },
  {
   "cell_type": "code",
   "execution_count": 6,
   "metadata": {},
   "outputs": [],
   "source": [
    "current_age_dataset = pd.DataFrame(index=median_age_dataset['Country'])\n",
    "\n",
    "current_age_dataset[available_years] = median_age_dataset[available_years].values"
   ]
  },
  {
   "cell_type": "code",
   "execution_count": 7,
   "metadata": {},
   "outputs": [
    {
     "data": {
      "text/html": [
       "<div>\n",
       "<style scoped>\n",
       "    .dataframe tbody tr th:only-of-type {\n",
       "        vertical-align: middle;\n",
       "    }\n",
       "\n",
       "    .dataframe tbody tr th {\n",
       "        vertical-align: top;\n",
       "    }\n",
       "\n",
       "    .dataframe thead th {\n",
       "        text-align: right;\n",
       "    }\n",
       "</style>\n",
       "<table border=\"1\" class=\"dataframe\">\n",
       "  <thead>\n",
       "    <tr style=\"text-align: right;\">\n",
       "      <th></th>\n",
       "      <th>1950</th>\n",
       "      <th>1955</th>\n",
       "      <th>1960</th>\n",
       "      <th>1965</th>\n",
       "      <th>1970</th>\n",
       "      <th>1975</th>\n",
       "      <th>1980</th>\n",
       "      <th>1985</th>\n",
       "      <th>1990</th>\n",
       "      <th>1995</th>\n",
       "      <th>2000</th>\n",
       "      <th>2005</th>\n",
       "      <th>2010</th>\n",
       "      <th>2015</th>\n",
       "      <th>2020</th>\n",
       "    </tr>\n",
       "    <tr>\n",
       "      <th>Country</th>\n",
       "      <th></th>\n",
       "      <th></th>\n",
       "      <th></th>\n",
       "      <th></th>\n",
       "      <th></th>\n",
       "      <th></th>\n",
       "      <th></th>\n",
       "      <th></th>\n",
       "      <th></th>\n",
       "      <th></th>\n",
       "      <th></th>\n",
       "      <th></th>\n",
       "      <th></th>\n",
       "      <th></th>\n",
       "      <th></th>\n",
       "    </tr>\n",
       "  </thead>\n",
       "  <tbody>\n",
       "    <tr>\n",
       "      <th>Afghanistan</th>\n",
       "      <td>18.597</td>\n",
       "      <td>18.462</td>\n",
       "      <td>18.311</td>\n",
       "      <td>18.193</td>\n",
       "      <td>17.994</td>\n",
       "      <td>17.648</td>\n",
       "      <td>17.357</td>\n",
       "      <td>17.091</td>\n",
       "      <td>16.845</td>\n",
       "      <td>16.579</td>\n",
       "      <td>16.413</td>\n",
       "      <td>16.490</td>\n",
       "      <td>16.868</td>\n",
       "      <td>17.326</td>\n",
       "      <td>17.810</td>\n",
       "    </tr>\n",
       "    <tr>\n",
       "      <th>Albania</th>\n",
       "      <td>20.640</td>\n",
       "      <td>20.202</td>\n",
       "      <td>19.677</td>\n",
       "      <td>18.955</td>\n",
       "      <td>18.844</td>\n",
       "      <td>19.490</td>\n",
       "      <td>21.349</td>\n",
       "      <td>22.505</td>\n",
       "      <td>23.815</td>\n",
       "      <td>25.798</td>\n",
       "      <td>26.930</td>\n",
       "      <td>28.532</td>\n",
       "      <td>29.968</td>\n",
       "      <td>31.796</td>\n",
       "      <td>33.636</td>\n",
       "    </tr>\n",
       "    <tr>\n",
       "      <th>Algeria</th>\n",
       "      <td>19.927</td>\n",
       "      <td>19.307</td>\n",
       "      <td>18.170</td>\n",
       "      <td>16.742</td>\n",
       "      <td>15.808</td>\n",
       "      <td>16.165</td>\n",
       "      <td>16.910</td>\n",
       "      <td>17.318</td>\n",
       "      <td>18.183</td>\n",
       "      <td>19.549</td>\n",
       "      <td>21.787</td>\n",
       "      <td>24.015</td>\n",
       "      <td>26.247</td>\n",
       "      <td>28.311</td>\n",
       "      <td>30.333</td>\n",
       "    </tr>\n",
       "    <tr>\n",
       "      <th>Angola</th>\n",
       "      <td>19.401</td>\n",
       "      <td>18.882</td>\n",
       "      <td>18.244</td>\n",
       "      <td>17.481</td>\n",
       "      <td>16.987</td>\n",
       "      <td>16.828</td>\n",
       "      <td>16.652</td>\n",
       "      <td>16.449</td>\n",
       "      <td>16.198</td>\n",
       "      <td>16.096</td>\n",
       "      <td>16.374</td>\n",
       "      <td>16.718</td>\n",
       "      <td>17.385</td>\n",
       "      <td>17.989</td>\n",
       "      <td>18.658</td>\n",
       "    </tr>\n",
       "    <tr>\n",
       "      <th>Argentina</th>\n",
       "      <td>25.657</td>\n",
       "      <td>26.471</td>\n",
       "      <td>27.070</td>\n",
       "      <td>27.398</td>\n",
       "      <td>27.593</td>\n",
       "      <td>27.663</td>\n",
       "      <td>27.377</td>\n",
       "      <td>27.463</td>\n",
       "      <td>27.574</td>\n",
       "      <td>27.697</td>\n",
       "      <td>28.142</td>\n",
       "      <td>29.120</td>\n",
       "      <td>30.439</td>\n",
       "      <td>31.615</td>\n",
       "      <td>32.837</td>\n",
       "    </tr>\n",
       "    <tr>\n",
       "      <th>...</th>\n",
       "      <td>...</td>\n",
       "      <td>...</td>\n",
       "      <td>...</td>\n",
       "      <td>...</td>\n",
       "      <td>...</td>\n",
       "      <td>...</td>\n",
       "      <td>...</td>\n",
       "      <td>...</td>\n",
       "      <td>...</td>\n",
       "      <td>...</td>\n",
       "      <td>...</td>\n",
       "      <td>...</td>\n",
       "      <td>...</td>\n",
       "      <td>...</td>\n",
       "      <td>...</td>\n",
       "    </tr>\n",
       "    <tr>\n",
       "      <th>Western Europe</th>\n",
       "      <td>34.543</td>\n",
       "      <td>33.597</td>\n",
       "      <td>33.766</td>\n",
       "      <td>33.405</td>\n",
       "      <td>33.203</td>\n",
       "      <td>33.533</td>\n",
       "      <td>34.483</td>\n",
       "      <td>35.402</td>\n",
       "      <td>36.309</td>\n",
       "      <td>37.362</td>\n",
       "      <td>38.838</td>\n",
       "      <td>40.486</td>\n",
       "      <td>42.223</td>\n",
       "      <td>43.821</td>\n",
       "      <td>44.920</td>\n",
       "    </tr>\n",
       "    <tr>\n",
       "      <th>Western Sahara</th>\n",
       "      <td>18.665</td>\n",
       "      <td>19.999</td>\n",
       "      <td>20.799</td>\n",
       "      <td>21.072</td>\n",
       "      <td>20.237</td>\n",
       "      <td>16.811</td>\n",
       "      <td>21.313</td>\n",
       "      <td>21.222</td>\n",
       "      <td>20.653</td>\n",
       "      <td>20.745</td>\n",
       "      <td>22.126</td>\n",
       "      <td>24.221</td>\n",
       "      <td>26.466</td>\n",
       "      <td>28.347</td>\n",
       "      <td>30.050</td>\n",
       "    </tr>\n",
       "    <tr>\n",
       "      <th>Yemen, Rep.</th>\n",
       "      <td>18.865</td>\n",
       "      <td>17.802</td>\n",
       "      <td>16.912</td>\n",
       "      <td>16.282</td>\n",
       "      <td>15.673</td>\n",
       "      <td>14.873</td>\n",
       "      <td>14.706</td>\n",
       "      <td>14.473</td>\n",
       "      <td>14.338</td>\n",
       "      <td>15.129</td>\n",
       "      <td>15.763</td>\n",
       "      <td>16.802</td>\n",
       "      <td>17.797</td>\n",
       "      <td>18.782</td>\n",
       "      <td>19.776</td>\n",
       "    </tr>\n",
       "    <tr>\n",
       "      <th>Zambia</th>\n",
       "      <td>17.474</td>\n",
       "      <td>17.558</td>\n",
       "      <td>17.478</td>\n",
       "      <td>17.279</td>\n",
       "      <td>16.814</td>\n",
       "      <td>16.482</td>\n",
       "      <td>16.281</td>\n",
       "      <td>16.610</td>\n",
       "      <td>16.992</td>\n",
       "      <td>17.265</td>\n",
       "      <td>17.213</td>\n",
       "      <td>16.814</td>\n",
       "      <td>16.754</td>\n",
       "      <td>17.097</td>\n",
       "      <td>17.805</td>\n",
       "    </tr>\n",
       "    <tr>\n",
       "      <th>Zimbabwe</th>\n",
       "      <td>18.968</td>\n",
       "      <td>18.160</td>\n",
       "      <td>17.381</td>\n",
       "      <td>16.265</td>\n",
       "      <td>15.883</td>\n",
       "      <td>15.735</td>\n",
       "      <td>15.494</td>\n",
       "      <td>15.981</td>\n",
       "      <td>16.795</td>\n",
       "      <td>17.411</td>\n",
       "      <td>18.049</td>\n",
       "      <td>18.388</td>\n",
       "      <td>19.020</td>\n",
       "      <td>20.703</td>\n",
       "      <td>22.144</td>\n",
       "    </tr>\n",
       "  </tbody>\n",
       "</table>\n",
       "<p>215 rows × 15 columns</p>\n",
       "</div>"
      ],
      "text/plain": [
       "                  1950    1955    1960    1965    1970    1975    1980  \\\n",
       "Country                                                                  \n",
       "Afghanistan     18.597  18.462  18.311  18.193  17.994  17.648  17.357   \n",
       "Albania         20.640  20.202  19.677  18.955  18.844  19.490  21.349   \n",
       "Algeria         19.927  19.307  18.170  16.742  15.808  16.165  16.910   \n",
       "Angola          19.401  18.882  18.244  17.481  16.987  16.828  16.652   \n",
       "Argentina       25.657  26.471  27.070  27.398  27.593  27.663  27.377   \n",
       "...                ...     ...     ...     ...     ...     ...     ...   \n",
       "Western Europe  34.543  33.597  33.766  33.405  33.203  33.533  34.483   \n",
       "Western Sahara  18.665  19.999  20.799  21.072  20.237  16.811  21.313   \n",
       "Yemen, Rep.     18.865  17.802  16.912  16.282  15.673  14.873  14.706   \n",
       "Zambia          17.474  17.558  17.478  17.279  16.814  16.482  16.281   \n",
       "Zimbabwe        18.968  18.160  17.381  16.265  15.883  15.735  15.494   \n",
       "\n",
       "                  1985    1990    1995    2000    2005    2010    2015    2020  \n",
       "Country                                                                         \n",
       "Afghanistan     17.091  16.845  16.579  16.413  16.490  16.868  17.326  17.810  \n",
       "Albania         22.505  23.815  25.798  26.930  28.532  29.968  31.796  33.636  \n",
       "Algeria         17.318  18.183  19.549  21.787  24.015  26.247  28.311  30.333  \n",
       "Angola          16.449  16.198  16.096  16.374  16.718  17.385  17.989  18.658  \n",
       "Argentina       27.463  27.574  27.697  28.142  29.120  30.439  31.615  32.837  \n",
       "...                ...     ...     ...     ...     ...     ...     ...     ...  \n",
       "Western Europe  35.402  36.309  37.362  38.838  40.486  42.223  43.821  44.920  \n",
       "Western Sahara  21.222  20.653  20.745  22.126  24.221  26.466  28.347  30.050  \n",
       "Yemen, Rep.     14.473  14.338  15.129  15.763  16.802  17.797  18.782  19.776  \n",
       "Zambia          16.610  16.992  17.265  17.213  16.814  16.754  17.097  17.805  \n",
       "Zimbabwe        15.981  16.795  17.411  18.049  18.388  19.020  20.703  22.144  \n",
       "\n",
       "[215 rows x 15 columns]"
      ]
     },
     "execution_count": 7,
     "metadata": {},
     "output_type": "execute_result"
    }
   ],
   "source": [
    "current_age_dataset"
   ]
  },
  {
   "cell_type": "code",
   "execution_count": 8,
   "metadata": {},
   "outputs": [],
   "source": [
    "thailand_median_age = current_age_dataset.loc['Thailand']"
   ]
  },
  {
   "cell_type": "code",
   "execution_count": 9,
   "metadata": {},
   "outputs": [],
   "source": [
    "b1, b0 = np.polyfit(thailand_median_age.index.astype(int) - 1950, thailand_median_age.values, deg=1)"
   ]
  },
  {
   "cell_type": "code",
   "execution_count": 10,
   "metadata": {},
   "outputs": [
    {
     "data": {
      "text/plain": [
       "(0.29041928571428577, 14.378525000000003)"
      ]
     },
     "execution_count": 10,
     "metadata": {},
     "output_type": "execute_result"
    }
   ],
   "source": [
    "b1, b0"
   ]
  },
  {
   "cell_type": "code",
   "execution_count": 11,
   "metadata": {},
   "outputs": [
    {
     "name": "stderr",
     "output_type": "stream",
     "text": [
      "c:\\Users\\HP\\Anaconda3\\lib\\site-packages\\matplotlib\\cbook\\__init__.py:1377: FutureWarning: Support for multi-dimensional indexing (e.g. `obj[:, None]`) is deprecated and will be removed in a future version.  Convert to a numpy array before indexing instead.\n",
      "  x[:, None]\n",
      "c:\\Users\\HP\\Anaconda3\\lib\\site-packages\\matplotlib\\axes\\_base.py:237: FutureWarning: Support for multi-dimensional indexing (e.g. `obj[:, None]`) is deprecated and will be removed in a future version.  Convert to a numpy array before indexing instead.\n",
      "  x = x[:, np.newaxis]\n",
      "c:\\Users\\HP\\Anaconda3\\lib\\site-packages\\matplotlib\\axes\\_base.py:239: FutureWarning: Support for multi-dimensional indexing (e.g. `obj[:, None]`) is deprecated and will be removed in a future version.  Convert to a numpy array before indexing instead.\n",
      "  y = y[:, np.newaxis]\n"
     ]
    },
    {
     "data": {
      "image/png": "[encoded data removed]",
      "text/plain": [
       "<Figure size 432x288 with 1 Axes>"
      ]
     },
     "metadata": {
      "needs_background": "light"
     },
     "output_type": "display_data"
    }
   ],
   "source": [
    "plt.plot(thailand_median_age.index.astype(int), thailand_median_age.values, label='actual')\n",
    "plt.plot(thailand_median_age.index.astype(int), (thailand_median_age.index.astype(int) - 1950) * b1 + b0, label='approx')\n",
    "plt.legend()\n",
    "plt.savefig('medianage_actual_vs_approx.png')\n",
    "plt.show()"
   ]
  },
  {
   "cell_type": "code",
   "execution_count": 12,
   "metadata": {},
   "outputs": [
    {
     "data": {
      "text/plain": [
       "0.942164093385512"
      ]
     },
     "execution_count": 12,
     "metadata": {},
     "output_type": "execute_result"
    }
   ],
   "source": [
    "np.corrcoef(thailand_median_age.index.astype(int), thailand_median_age.values)[0][1]"
   ]
  },
  {
   "cell_type": "code",
   "execution_count": 13,
   "metadata": {},
   "outputs": [],
   "source": [
    "pred = (thailand_median_age.index.astype(int) - 1950) * b1 + b0\n",
    "actual = thailand_median_age.values"
   ]
  },
  {
   "cell_type": "code",
   "execution_count": 14,
   "metadata": {},
   "outputs": [
    {
     "data": {
      "text/plain": [
       "ShapiroResult(statistic=0.942695140838623, pvalue=0.41747185587882996)"
      ]
     },
     "execution_count": 14,
     "metadata": {},
     "output_type": "execute_result"
    }
   ],
   "source": [
    "from scipy.stats import shapiro\n",
    "\n",
    "shapiro(pred - actual)"
   ]
  },
  {
   "cell_type": "code",
   "execution_count": 15,
   "metadata": {},
   "outputs": [
    {
     "data": {
      "text/plain": [
       "((array([-1.69372899, -1.22918025, -0.93620006, -0.70737068, -0.51078428,\n",
       "         -0.33229293, -0.1638693 ,  0.        ,  0.1638693 ,  0.33229293,\n",
       "          0.51078428,  0.70737068,  0.93620006,  1.22918025,  1.69372899]),\n",
       "  array([-4.242475  , -2.85437857, -1.480125  , -1.45922143, -1.37031786,\n",
       "         -1.12528214, -1.12141429, -1.08351071,  0.58939286,  0.97781429,\n",
       "          1.44529643,  2.4572    ,  2.47591071,  3.24000714,  3.55110357])),\n",
       " (2.4032908902280403, 4.9976787680248475e-15, 0.9755111478146224))"
      ]
     },
     "execution_count": 15,
     "metadata": {},
     "output_type": "execute_result"
    },
    {
     "data": {
      "image/png": "[encoded data removed]",
      "text/plain": [
       "<Figure size 432x288 with 1 Axes>"
      ]
     },
     "metadata": {
      "needs_background": "light"
     },
     "output_type": "display_data"
    }
   ],
   "source": [
    "from scipy.stats import probplot\n",
    "\n",
    "probplot(pred - actual, plot=plt)"
   ]
  },
  {
   "cell_type": "code",
   "execution_count": 16,
   "metadata": {},
   "outputs": [],
   "source": [
    "approximated_median_age_formula = lambda year: (year - 1950) * b1 + b0"
   ]
  },
  {
   "cell_type": "code",
   "execution_count": 17,
   "metadata": {},
   "outputs": [
    {
     "data": {
      "text/plain": [
       "36.15997142857144"
      ]
     },
     "execution_count": 17,
     "metadata": {},
     "output_type": "execute_result"
    }
   ],
   "source": [
    "approximated_median_age_formula(2025)"
   ]
  },
  {
   "cell_type": "code",
   "execution_count": 18,
   "metadata": {},
   "outputs": [
    {
     "data": {
      "text/plain": [
       "37.61206785714286"
      ]
     },
     "execution_count": 18,
     "metadata": {},
     "output_type": "execute_result"
    }
   ],
   "source": [
    "approximated_median_age_formula(2030)"
   ]
  },
  {
   "cell_type": "code",
   "execution_count": 19,
   "metadata": {},
   "outputs": [],
   "source": [
    "sse = np.sqrt(np.sum((pred - actual) ** 2 / (len(pred) - 2)))"
   ]
  },
  {
   "cell_type": "code",
   "execution_count": 20,
   "metadata": {},
   "outputs": [],
   "source": [
    "x_minus_xbar = np.sqrt(np.sum((actual - np.mean(actual)) ** 2))"
   ]
  },
  {
   "cell_type": "code",
   "execution_count": 21,
   "metadata": {},
   "outputs": [],
   "source": [
    "se_b1 = sse / x_minus_xbar"
   ]
  },
  {
   "cell_type": "code",
   "execution_count": 22,
   "metadata": {},
   "outputs": [
    {
     "data": {
      "text/plain": [
       "2.160368656461013"
      ]
     },
     "execution_count": 22,
     "metadata": {},
     "output_type": "execute_result"
    }
   ],
   "source": [
    "from scipy.stats import t\n",
    "\n",
    "t_stat = t.isf(0.025, df=(len(pred) - 2))\n",
    "t_stat"
   ]
  },
  {
   "cell_type": "code",
   "execution_count": 23,
   "metadata": {},
   "outputs": [
    {
     "data": {
      "text/plain": [
       "(0.08960346439651809, 0.4912351070320534)"
      ]
     },
     "execution_count": 23,
     "metadata": {},
     "output_type": "execute_result"
    }
   ],
   "source": [
    "min_95 = b1 - t_stat * se_b1\n",
    "max_95 = b1 + t_stat * se_b1\n",
    "\n",
    "min_95, max_95"
   ]
  },
  {
   "cell_type": "code",
   "execution_count": 24,
   "metadata": {},
   "outputs": [
    {
     "data": {
      "text/plain": [
       "(array([102.73371229]), array([1.53830106e-07]))"
      ]
     },
     "execution_count": 24,
     "metadata": {},
     "output_type": "execute_result"
    }
   ],
   "source": [
    "from sklearn.feature_selection import f_regression\n",
    "\n",
    "f_regression((thailand_median_age.index.values.astype(int) - 1950).reshape(-1, 1), actual)"
   ]
  }
 ],
 "metadata": {
  "kernelspec": {
   "display_name": "Python 3.7.3 ('base')",
   "language": "python",
   "name": "python3"
  },
  "language_info": {
   "codemirror_mode": {
    "name": "ipython",
    "version": 3
   },
   "file_extension": ".py",
   "mimetype": "text/x-python",
   "name": "python",
   "nbconvert_exporter": "python",
   "pygments_lexer": "ipython3",
   "version": "3.7.3"
  },
  "orig_nbformat": 4,
  "vscode": {
   "interpreter": {
    "hash": "b1e6b76b6e736d29445d5c5f779c1dafb0f59893c5766b7198bc0a87a8e7acf4"
   }
  }
 },
 "nbformat": 4,
 "nbformat_minor": 2
}
